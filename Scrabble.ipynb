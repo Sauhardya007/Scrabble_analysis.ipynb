{
  "nbformat": 4,
  "nbformat_minor": 0,
  "metadata": {
    "colab": {
      "provenance": [],
      "gpuType": "T4",
      "include_colab_link": true
    },
    "kernelspec": {
      "name": "python3",
      "display_name": "Python 3"
    },
    "language_info": {
      "name": "python"
    },
    "accelerator": "GPU"
  },
  "cells": [
    {
      "cell_type": "markdown",
      "metadata": {
        "id": "view-in-github",
        "colab_type": "text"
      },
      "source": [
        "<a href=\"https://colab.research.google.com/github/Sauhardya007/Scrabble_analysis.ipynb/blob/main/Scrabble.ipynb\" target=\"_parent\"><img src=\"https://colab.research.google.com/assets/colab-badge.svg\" alt=\"Open In Colab\"/></a>"
      ]
    },
    {
      "cell_type": "code",
      "execution_count": null,
      "metadata": {
        "id": "hHuH66Hh-HUF"
      },
      "outputs": [],
      "source": [
        "import pandas as pd\n",
        "import numpy as np"
      ]
    },
    {
      "cell_type": "markdown",
      "source": [],
      "metadata": {
        "id": "WzNtnlE36Gu3"
      }
    },
    {
      "cell_type": "code",
      "execution_count": null,
      "metadata": {
        "id": "-KtTF7apsG5u"
      },
      "outputs": [],
      "source": [
        "#from tensorflow.keras.preprocessing.text import Tokenizer\n",
        "#tokenizer=Tokenizer(oov_token=\"<nothing>\",char_level=False)"
      ]
    },
    {
      "cell_type": "code",
      "source": [
        "pip install kaggle"
      ],
      "metadata": {
        "colab": {
          "base_uri": "https://localhost:8080/"
        },
        "id": "7_8iZhVPTQQT",
        "outputId": "bb66a490-a41c-426f-8f31-5b1d1f39b294"
      },
      "execution_count": null,
      "outputs": [
        {
          "output_type": "stream",
          "name": "stdout",
          "text": [
            "Requirement already satisfied: kaggle in /usr/local/lib/python3.12/dist-packages (1.7.4.5)\n",
            "Requirement already satisfied: bleach in /usr/local/lib/python3.12/dist-packages (from kaggle) (6.2.0)\n",
            "Requirement already satisfied: certifi>=14.05.14 in /usr/local/lib/python3.12/dist-packages (from kaggle) (2025.8.3)\n",
            "Requirement already satisfied: charset-normalizer in /usr/local/lib/python3.12/dist-packages (from kaggle) (3.4.3)\n",
            "Requirement already satisfied: idna in /usr/local/lib/python3.12/dist-packages (from kaggle) (3.10)\n",
            "Requirement already satisfied: protobuf in /usr/local/lib/python3.12/dist-packages (from kaggle) (5.29.5)\n",
            "Requirement already satisfied: python-dateutil>=2.5.3 in /usr/local/lib/python3.12/dist-packages (from kaggle) (2.9.0.post0)\n",
            "Requirement already satisfied: python-slugify in /usr/local/lib/python3.12/dist-packages (from kaggle) (8.0.4)\n",
            "Requirement already satisfied: requests in /usr/local/lib/python3.12/dist-packages (from kaggle) (2.32.3)\n",
            "Requirement already satisfied: setuptools>=21.0.0 in /usr/local/lib/python3.12/dist-packages (from kaggle) (75.2.0)\n",
            "Requirement already satisfied: six>=1.10 in /usr/local/lib/python3.12/dist-packages (from kaggle) (1.17.0)\n",
            "Requirement already satisfied: text-unidecode in /usr/local/lib/python3.12/dist-packages (from kaggle) (1.3)\n",
            "Requirement already satisfied: tqdm in /usr/local/lib/python3.12/dist-packages (from kaggle) (4.67.1)\n",
            "Requirement already satisfied: urllib3>=1.15.1 in /usr/local/lib/python3.12/dist-packages (from kaggle) (2.5.0)\n",
            "Requirement already satisfied: webencodings in /usr/local/lib/python3.12/dist-packages (from kaggle) (0.5.1)\n"
          ]
        }
      ]
    },
    {
      "cell_type": "code",
      "source": [
        "import kagglehub\n",
        "\n",
        "# Download latest version\n",
        "path = kagglehub.dataset_download(\"kazanova/sentiment140\")\n",
        "\n",
        "print(\"Path to dataset files:\", path)\n"
      ],
      "metadata": {
        "colab": {
          "base_uri": "https://localhost:8080/"
        },
        "id": "oXr-5-ooTpBa",
        "outputId": "9e9348ee-02e0-4afc-8bdc-f28c952fd3cd"
      },
      "execution_count": null,
      "outputs": [
        {
          "output_type": "stream",
          "name": "stdout",
          "text": [
            "Path to dataset files: /kaggle/input/sentiment140\n"
          ]
        }
      ]
    },
    {
      "cell_type": "code",
      "source": [
        "data_path = \"/root/.cache/kagglehub/datasets/kazanova/sentiment140/versions/2/training.1600000.processed.noemoticon.csv\""
      ],
      "metadata": {
        "id": "N47EjCcBVRfh"
      },
      "execution_count": null,
      "outputs": []
    },
    {
      "cell_type": "code",
      "source": [
        "df=pd.read_csv(data_path,encoding='latin-1',header=None)\n",
        "df.columns = [\"target\", \"ids\", \"date\", \"flag\", \"user\", \"text\"]\n",
        "#df.head(3)"
      ],
      "metadata": {
        "id": "RVnoYCWDTpFF"
      },
      "execution_count": null,
      "outputs": []
    },
    {
      "cell_type": "code",
      "source": [
        "df[\"sentiment\"] = df[\"target\"].map({0: \"negative\", 1: \"positive\"})\n",
        "#df.head(10)"
      ],
      "metadata": {
        "id": "ylvtZqcsV_pe"
      },
      "execution_count": null,
      "outputs": []
    },
    {
      "cell_type": "code",
      "source": [
        "pip install pyspellchecker\n"
      ],
      "metadata": {
        "colab": {
          "base_uri": "https://localhost:8080/"
        },
        "id": "yaPx1OiJdOnp",
        "outputId": "bd66829b-5578-4c1d-a382-65fffcfe1a0e"
      },
      "execution_count": null,
      "outputs": [
        {
          "output_type": "stream",
          "name": "stdout",
          "text": [
            "Requirement already satisfied: pyspellchecker in /usr/local/lib/python3.12/dist-packages (0.8.3)\n"
          ]
        }
      ]
    },
    {
      "cell_type": "code",
      "source": [
        "#data_preprocessing\n",
        "import re\n",
        "from spellchecker import SpellChecker\n",
        "spell=SpellChecker()\n",
        "chat_dict = {\n",
        "    \"u\": \"you\",\n",
        "    \"ur\": \"your\",\n",
        "    \"r\": \"are\",\n",
        "    \"lol\": \"laugh out loud\",\n",
        "    \"lmao\": \"laughing my ass off\",\n",
        "    \"rofl\": \"rolling on the floor laughing\",\n",
        "    \"brb\": \"be right back\",\n",
        "    \"btw\": \"by the way\",\n",
        "    \"omg\": \"oh my god\",\n",
        "    \"idk\": \"I don't know\",\n",
        "    \"idc\": \"I don't care\",\n",
        "    \"imo\": \"in my opinion\",\n",
        "    \"imho\": \"in my humble opinion\",\n",
        "    \"ttyl\": \"talk to you later\",\n",
        "    \"smh\": \"shaking my head\",\n",
        "    \"fyi\": \"for your information\",\n",
        "    \"np\": \"no problem\",\n",
        "    \"thx\": \"thanks\",\n",
        "    \"ty\": \"thank you\",\n",
        "    \"yw\": \"you’re welcome\",\n",
        "    \"w8\": \"wait\",\n",
        "    \"b4\": \"before\",\n",
        "    \"gr8\": \"great\",\n",
        "    \"cya\": \"see you\",\n",
        "    \"omw\": \"on my way\",\n",
        "    \"asap\": \"as soon as possible\",\n",
        "    \"nvm\": \"never mind\",\n",
        "    \"bc\": \"because\",\n",
        "    \"cu\": \"see you\",\n",
        "    \"msg\": \"message\",\n",
        "    \"pls\": \"please\",\n",
        "    \"plz\": \"please\",\n",
        "    \"ya\": \"yeah\",\n",
        "    \"tho\": \"though\",\n",
        "    \"dm\": \"direct message\",\n",
        "    \"ikr\": \"I know right\",\n",
        "    \"jk\": \"just kidding\",\n",
        "    \"bff\": \"best friends forever\",\n",
        "    \"wtf\": \"what the f***\",\n",
        "    \"wth\": \"what the hell\",\n",
        "    \"afk\": \"away from keyboard\",\n",
        "    \"gg\": \"good game\",\n",
        "    \"tf\": \"the f***\",\n",
        "    \"bday\": \"birthday\",\n",
        "    \"hbd\": \"happy birthday\",\n",
        "    \"xoxo\": \"hugs and kisses\",\n",
        "    \"aight\": \"alright\",\n",
        "    \"atm\": \"at the moment\",\n",
        "    \"bbl\": \"be back later\",\n",
        "    \"bfn\": \"bye for now\",\n",
        "    \"cba\": \"can't be arsed\",\n",
        "    \"cuz\": \"because\",\n",
        "    \"da\": \"the\",\n",
        "    \"dunno\": \"don't know\",\n",
        "    \"fomo\": \"fear of missing out\",\n",
        "    \"ftw\": \"for the win\",\n",
        "    \"g2g\": \"got to go\",\n",
        "    \"gonna\": \"going to\",\n",
        "    \"gotcha\": \"got you\",\n",
        "    \"hbu\": \"how about you\",\n",
        "    \"hmu\": \"hit me up\",\n",
        "    \"howdy\": \"hello\",\n",
        "    \"iirc\": \"if I recall correctly\",\n",
        "    \"irl\": \"in real life\",\n",
        "    \"jus\": \"just\",\n",
        "    \"k\": \"okay\",\n",
        "    \"kewl\": \"cool\",\n",
        "    \"kinda\": \"kind of\",\n",
        "    \"lemme\": \"let me\",\n",
        "    \"luv\": \"love\",\n",
        "    \"nah\": \"no\",\n",
        "    \"naw\": \"no\",\n",
        "    \"ne1\": \"anyone\",\n",
        "    \"nite\": \"night\",\n",
        "    \"nothin\": \"nothing\",\n",
        "    \"nvm\": \"never mind\",\n",
        "    \"oic\": \"oh I see\",\n",
        "    \"omfg\": \"oh my f***ing god\",\n",
        "    \"oop\": \"oops\",\n",
        "    \"pics\": \"pictures\",\n",
        "    \"prob\": \"problem\",\n",
        "    \"prolly\": \"probably\",\n",
        "    \"rn\": \"right now\",\n",
        "    \"sec\": \"second\",\n",
        "    \"sup\": \"what's up\",\n",
        "    \"tbh\": \"to be honest\",\n",
        "    \"tho\": \"though\",\n",
        "    \"thx\": \"thanks\",\n",
        "    \"tmrw\": \"tomorrow\",\n",
        "    \"tryna\": \"trying to\",\n",
        "    \"tysm\": \"thank you so much\",\n",
        "    \"u2\": \"you too\",\n",
        "    \"wassup\": \"what's up\",\n",
        "    \"wbu\": \"what about you\",\n",
        "    \"wdym\": \"what do you mean\",\n",
        "    \"wru\": \"where are you\",\n",
        "    \"wyd\": \"what are you doing\",\n",
        "    \"ya\": \"you\",\n",
        "    \"yo\": \"hey\",\n",
        "    \"yolo\": \"you only live once\",\n",
        "    \"yt\": \"youtube\"}\n",
        "\n",
        "def clean_text(text):\n",
        "  text=text.lower()\n",
        "  text=re.sub(r\"http\\S+|www\\S+|https\\S+\",\"\",text,flags=re.MULTILINE)\n",
        "  text=re.sub(r\"\\@\\w+|\\#\",\"\",text)\n",
        "  text=re.compile(r\"<.*?>\").sub(r\"\",text)\n",
        "  text = re.sub(r\"[^a-zA-Z\\s]\", \"\", text)\n",
        "  text = re.sub(r\"\\s+\", \" \", text).strip()\n",
        "  emoji_pattern = re.compile(\n",
        "    \"[\"\n",
        "    u\"\\U0001F600-\\U0001F64F\"  # emoticons\n",
        "    u\"\\U0001F300-\\U0001F5FF\"  # symbols & pictographs\n",
        "    u\"\\U0001F680-\\U0001F6FF\"  # transport & map symbols\n",
        "    u\"\\U0001F1E0-\\U0001F1FF\"  # flags\n",
        "    u\"\\U00002700-\\U000027BF\"  # dingbats\n",
        "    u\"\\U0001F900-\\U0001F9FF\"  # supplemental symbols\n",
        "    u\"\\U00002600-\\U000026FF\"  # miscellaneous symbols\n",
        "    u\"\\U0001FA70-\\U0001FAFF\"  # extended pictographs\n",
        "    u\"\\U000025A0-\\U000025FF\"  # geometric shapes\n",
        "    \"]+\", flags=re.UNICODE)\n",
        "  text = emoji_pattern.sub(r\"\", text)\n",
        "\n",
        "  text =([chat_dict[word] if word in chat_dict else word for word in text.split()])\n",
        "  #corrected_words = [\n",
        "  #    spell.correction(word) if len(word) > 2 and spell.correction(word) is not None else word\n",
        "  #    for word in text\n",
        "  #]\n",
        "\n",
        "  #return \" \".join(corrected_words)\n",
        "  return \" \".join(text)\n",
        "df['text']=df['text'].apply(clean_text)\n"
      ],
      "metadata": {
        "id": "Hkxy3pGbW69v"
      },
      "execution_count": null,
      "outputs": []
    },
    {
      "cell_type": "code",
      "source": [
        "from tensorflow.keras.preprocessing.sequence import pad_sequences\n",
        "from tensorflow.keras.preprocessing.text import Tokenizer\n",
        "max_vocab=30000\n",
        "tokenizer = Tokenizer(num_words=max_vocab, oov_token=\"<nothing>\")\n",
        "tokenizer.fit_on_texts(df['text'])\n",
        "sequences=tokenizer.texts_to_sequences(df['text'])"
      ],
      "metadata": {
        "id": "la1n7XphClLw"
      },
      "execution_count": null,
      "outputs": []
    },
    {
      "cell_type": "code",
      "execution_count": null,
      "metadata": {
        "id": "IQuVxNhh-OB5"
      },
      "outputs": [],
      "source": [
        "from tensorflow.keras.models import Sequential\n",
        "from tensorflow.keras.layers import Dense,Embedding,LSTM,Dropout\n",
        "from tensorflow.keras import regularizers\n",
        "from tensorflow.keras.callbacks import EarlyStopping\n",
        "\n"
      ]
    },
    {
      "cell_type": "code",
      "source": [
        "\n",
        "from sklearn.model_selection import train_test_split\n",
        "\n",
        "X_train,X_test,y_train,y_test=train_test_split(sequences,df['sentiment'],test_size=0.2,random_state=40)"
      ],
      "metadata": {
        "id": "BibqsbyqjjXK"
      },
      "execution_count": null,
      "outputs": []
    },
    {
      "cell_type": "code",
      "source": [
        "model=Sequential()\n",
        "model.add(Embedding(input_dim=max_vocab,output_dim=50))\n",
        "model.add(LSTM(128,return_sequences=True,kernel_regularizer=regularizers.l2(0.01)))\n",
        "model.add(LSTM(64))\n",
        "model.add(Dropout(0.3))\n",
        "model.add(Dense(32,activation='relu'))\n",
        "model.add(Dropout(0.3))\n",
        "model.add(Dense(16,activation='relu'))\n",
        "model.add(Dropout(0.3))\n",
        "model.add(Dense(2,activation='softmax'))"
      ],
      "metadata": {
        "id": "ciN5yT68E4B5"
      },
      "execution_count": null,
      "outputs": []
    },
    {
      "cell_type": "code",
      "source": [
        "model.compile(loss='sparse_categorical_crossentropy',optimizer='adam',metrics=['accuracy'])\n",
        "# Pad the sequences after the train-test split\n",
        "max1=250\n",
        "X_train = pad_sequences(X_train,maxlen=max1,padding='post',truncating='post')\n",
        "X_test = pad_sequences(X_test,maxlen=max1,padding='post',truncating='post')\n",
        "label_map = {'negative': 0, 'positive': 1}\n",
        "\n",
        "X_train = np.array(X_train[:20000])\n",
        "X_test = np.array(X_test[:20000])\n",
        "y_train = np.array(y_train[:20000])\n",
        "y_test = np.array(y_test[:20000])\n",
        "y_train_num = np.array([label_map[x] for x in y_train])\n",
        "y_test_num = np.array([label_map[x] for x in y_test])\n",
        "early_stop = EarlyStopping(\n",
        "    monitor='val_loss',\n",
        "    patience=3,\n",
        "    restore_best_weights=True\n",
        ")\n",
        "model.fit(X_train,y_train_num,epochs=15,validation_data=(X_test,y_test_num),callbacks=[early_stop])"
      ],
      "metadata": {
        "id": "5GAbNFFOJoNH",
        "colab": {
          "base_uri": "https://localhost:8080/"
        },
        "outputId": "47336e2a-9740-4ca0-d014-022a3b5dd1be"
      },
      "execution_count": null,
      "outputs": [
        {
          "output_type": "stream",
          "name": "stdout",
          "text": [
            "Epoch 1/15\n",
            "\u001b[1m625/625\u001b[0m \u001b[32m━━━━━━━━━━━━━━━━━━━━\u001b[0m\u001b[37m\u001b[0m \u001b[1m26s\u001b[0m 39ms/step - accuracy: 0.7876 - loss: 0.4785 - val_accuracy: 0.7934 - val_loss: 0.4549\n",
            "Epoch 2/15\n",
            "\u001b[1m625/625\u001b[0m \u001b[32m━━━━━━━━━━━━━━━━━━━━\u001b[0m\u001b[37m\u001b[0m \u001b[1m35s\u001b[0m 30ms/step - accuracy: 0.8221 - loss: 0.4243 - val_accuracy: 0.7907 - val_loss: 0.4602\n",
            "Epoch 3/15\n",
            "\u001b[1m625/625\u001b[0m \u001b[32m━━━━━━━━━━━━━━━━━━━━\u001b[0m\u001b[37m\u001b[0m \u001b[1m21s\u001b[0m 31ms/step - accuracy: 0.8515 - loss: 0.3732 - val_accuracy: 0.7829 - val_loss: 0.4839\n",
            "Epoch 4/15\n",
            "\u001b[1m625/625\u001b[0m \u001b[32m━━━━━━━━━━━━━━━━━━━━\u001b[0m\u001b[37m\u001b[0m \u001b[1m19s\u001b[0m 31ms/step - accuracy: 0.8749 - loss: 0.3310 - val_accuracy: 0.7720 - val_loss: 0.5278\n"
          ]
        },
        {
          "output_type": "execute_result",
          "data": {
            "text/plain": [
              "<keras.src.callbacks.history.History at 0x7dbcc354d370>"
            ]
          },
          "metadata": {},
          "execution_count": 74
        }
      ]
    },
    {
      "cell_type": "code",
      "source": [
        "!pip install snscrape\n"
      ],
      "metadata": {
        "id": "9i2oRYqvQdw6"
      },
      "execution_count": null,
      "outputs": []
    },
    {
      "cell_type": "code",
      "source": [
        "\n",
        "#!pip install --upgrade certifi"
      ],
      "metadata": {
        "id": "Jn6zrDRmRgAs"
      },
      "execution_count": null,
      "outputs": []
    },
    {
      "cell_type": "code",
      "source": [
        "\"\"\"\n",
        "import snscrape.modules.twitter as sntwitter\n",
        "search_query = \"Scrabble\"\n",
        "num_tweets = 10\n",
        "scrabble_texts = []\n",
        "print(f\"Scraping {num_tweets} tweets about '{search_query}'...\")\n",
        "for i, tweet in enumerate(sntwitter.TwitterSearchScraper(search_query).get_items()):\n",
        "    if i >= num_tweets:\n",
        "        break\n",
        "    scrabble_texts.append(tweet.rawContent)\n",
        "  \"\"\""
      ],
      "metadata": {
        "id": "uM-FMTwuNjgW"
      },
      "execution_count": null,
      "outputs": []
    },
    {
      "cell_type": "code",
      "source": [
        "\n",
        "\n",
        "# --- 1. Your Provided Data ---\n",
        "# These are the example sentences you provided.\n",
        "positive_examples = [\n",
        "    \"I love playing Scrabble with friends; it’s so much fun and educational!\",\n",
        "    \"Scrabble keeps my mind sharp and improves my vocabulary.\",\n",
        "    \"Winning a tough game of Scrabble feels incredibly satisfying.\",\n",
        "    \"I enjoy family game night more because of Scrabble—it’s my favorite!\",\n",
        "    \"Scrabble is a classic board game that never gets boring.\",\n",
        "    \"Playing Scrabble always challenges me in a fun way.\",\n",
        "    \"I love discovering new words while playing Scrabble.\",\n",
        "    \"Scrabble night is the highlight of my week.\",\n",
        "    \"Competing in Scrabble tournaments is exciting and rewarding.\",\n",
        "    \"Scrabble brings friends and family together.\"\n",
        "]\n",
        "\n",
        "negative_examples = [\n",
        "    \"I hate losing at Scrabble; it’s so frustrating.\",\n",
        "    \"Scrabble can be boring when the letters are all vowels.\",\n",
        "    \"Playing Scrabble online is slow and full of glitches.\",\n",
        "    \"I get annoyed when my opponents cheat in Scrabble.\",\n",
        "    \"Scrabble is stressful when I can’t think of any words.\",\n",
        "    \"Scrabble games sometimes take forever to finish.\",\n",
        "    \"I get frustrated when I can’t find good words in Scrabble.\",\n",
        "    \"Scrabble can feel unfair if luck of the draw is bad.\",\n",
        "    \"Losing repeatedly at Scrabble makes me not want to play.\",\n",
        "    \"Scrabble can be overwhelming with complex rules and scoring.\"\n",
        "]\n",
        "\n",
        "# --- 2. Combine all examples and create corresponding labels ---\n",
        "# We'll put all the sentences into a single list and create a label for each one.\n",
        "# 0 = Positive, 1 = Negative, 2 = Neutral\n",
        "all_sentences = positive_examples + negative_examples\n",
        "all_labels = ([1] * len(positive_examples) +\n",
        "              [0] * len(negative_examples))\n",
        "sequences=tokenizer.texts_to_sequences(all_sentences)\n",
        "padded_sequences=pad_sequences(sequences,maxlen=max1,padding='pre',truncating='post')\n"
      ],
      "metadata": {
        "id": "xlwCb4V3Y1da"
      },
      "execution_count": null,
      "outputs": []
    },
    {
      "cell_type": "markdown",
      "source": [
        "[0, 0, 0, 0, 0, 0, 0, 0, 0, 0, 1, 1, 1, 1, 1, 1, 1, 1, 1, 1]"
      ],
      "metadata": {
        "id": "vqkyx4ukninG"
      }
    },
    {
      "cell_type": "code",
      "source": [
        "all_labels"
      ],
      "metadata": {
        "colab": {
          "base_uri": "https://localhost:8080/"
        },
        "id": "UjXdI4i7mMPW",
        "outputId": "29e6f695-cb43-45d4-b054-fa09bae87807"
      },
      "execution_count": null,
      "outputs": [
        {
          "output_type": "execute_result",
          "data": {
            "text/plain": [
              "[1, 1, 1, 1, 1, 1, 1, 1, 1, 1, 0, 0, 0, 0, 0, 0, 0, 0, 0, 0]"
            ]
          },
          "metadata": {},
          "execution_count": 79
        }
      ]
    },
    {
      "cell_type": "code",
      "source": [
        "predicted=model.predict(padded_sequences)\n",
        "np.argmax(predicted,axis=1)"
      ],
      "metadata": {
        "colab": {
          "base_uri": "https://localhost:8080/"
        },
        "id": "gDZcJvgFjqfg",
        "outputId": "d97cdafa-abbb-401a-c6b8-e33d06a3cc21"
      },
      "execution_count": null,
      "outputs": [
        {
          "output_type": "stream",
          "name": "stderr",
          "text": [
            "WARNING:tensorflow:5 out of the last 10 calls to <function TensorFlowTrainer.make_predict_function.<locals>.one_step_on_data_distributed at 0x7dbcc3426660> triggered tf.function retracing. Tracing is expensive and the excessive number of tracings could be due to (1) creating @tf.function repeatedly in a loop, (2) passing tensors with different shapes, (3) passing Python objects instead of tensors. For (1), please define your @tf.function outside of the loop. For (2), @tf.function has reduce_retracing=True option that can avoid unnecessary retracing. For (3), please refer to https://www.tensorflow.org/guide/function#controlling_retracing and https://www.tensorflow.org/api_docs/python/tf/function for  more details.\n"
          ]
        },
        {
          "output_type": "stream",
          "name": "stdout",
          "text": [
            "\u001b[1m1/1\u001b[0m \u001b[32m━━━━━━━━━━━━━━━━━━━━\u001b[0m\u001b[37m\u001b[0m \u001b[1m0s\u001b[0m 196ms/step\n"
          ]
        },
        {
          "output_type": "execute_result",
          "data": {
            "text/plain": [
              "array([1, 0, 1, 1, 0, 1, 1, 1, 1, 1, 0, 0, 0, 0, 1, 0, 0, 0, 0, 1])"
            ]
          },
          "metadata": {},
          "execution_count": 77
        }
      ]
    },
    {
      "cell_type": "code",
      "source": [
        "!git config --global user.email \"sauhardyah@gmail.com\""
      ],
      "metadata": {
        "id": "6ruK1p2CcBr9"
      },
      "execution_count": null,
      "outputs": []
    },
    {
      "cell_type": "markdown",
      "source": [],
      "metadata": {
        "id": "AeUCdsNGKM3p"
      }
    }
  ]
}